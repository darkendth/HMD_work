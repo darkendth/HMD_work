{
 "cells": [
  {
   "cell_type": "code",
   "execution_count": 1,
   "metadata": {},
   "outputs": [],
   "source": [
    "import pandas as pd\n",
    "import os\n",
    "import matplotlib.pyplot as plt\n",
    "import numpy as np\n",
    "from sklearn.preprocessing import StandardScaler\n",
    "from sklearn.decomposition import PCA # for PCA calculation\n",
    "%matplotlib inline\n"
   ]
  },
  {
   "cell_type": "code",
   "execution_count": 9,
   "metadata": {},
   "outputs": [
    {
     "name": "stdout",
     "output_type": "stream",
     "text": [
      "848129_\n",
      "4464\n"
     ]
    },
    {
     "ename": "KeyError",
     "evalue": "\"['LLC-store-misses'] not in index\"",
     "output_type": "error",
     "traceback": [
      "\u001b[0;31m---------------------------------------------------------------------------\u001b[0m",
      "\u001b[0;31mKeyError\u001b[0m                                  Traceback (most recent call last)",
      "Cell \u001b[0;32mIn[9], line 11\u001b[0m\n\u001b[1;32m      9\u001b[0m df[[\u001b[39m'\u001b[39m\u001b[39mcache-references\u001b[39m\u001b[39m'\u001b[39m,\u001b[39m'\u001b[39m\u001b[39mcpu-cycles\u001b[39m\u001b[39m'\u001b[39m,\u001b[39m'\u001b[39m\u001b[39mref-cycles\u001b[39m\u001b[39m'\u001b[39m]] \u001b[39m=\u001b[39m df[[\u001b[39m'\u001b[39m\u001b[39mcache-references\u001b[39m\u001b[39m'\u001b[39m,\u001b[39m'\u001b[39m\u001b[39mcpu-cycles\u001b[39m\u001b[39m'\u001b[39m,\u001b[39m'\u001b[39m\u001b[39mref-cycles\u001b[39m\u001b[39m'\u001b[39m]]\u001b[39m.\u001b[39mdiv(df[\u001b[39m'\u001b[39m\u001b[39minstructions2\u001b[39m\u001b[39m'\u001b[39m],axis\u001b[39m=\u001b[39m\u001b[39m0\u001b[39m)\n\u001b[1;32m     10\u001b[0m df[[\u001b[39m'\u001b[39m\u001b[39mL1-dcache-load-misses\u001b[39m\u001b[39m'\u001b[39m,\u001b[39m'\u001b[39m\u001b[39mL1-dcache-loads\u001b[39m\u001b[39m'\u001b[39m,\u001b[39m'\u001b[39m\u001b[39mL1-dcache-stores\u001b[39m\u001b[39m'\u001b[39m]] \u001b[39m=\u001b[39m df[[\u001b[39m'\u001b[39m\u001b[39mL1-dcache-load-misses\u001b[39m\u001b[39m'\u001b[39m,\u001b[39m'\u001b[39m\u001b[39mL1-dcache-loads\u001b[39m\u001b[39m'\u001b[39m,\u001b[39m'\u001b[39m\u001b[39mL1-dcache-stores\u001b[39m\u001b[39m'\u001b[39m]]\u001b[39m.\u001b[39mdiv(df[\u001b[39m'\u001b[39m\u001b[39minstructions3\u001b[39m\u001b[39m'\u001b[39m],axis\u001b[39m=\u001b[39m\u001b[39m0\u001b[39m)\n\u001b[0;32m---> 11\u001b[0m df[[\u001b[39m'\u001b[39m\u001b[39mLLC-load-misses\u001b[39m\u001b[39m'\u001b[39m,\u001b[39m'\u001b[39m\u001b[39mLLC-loads\u001b[39m\u001b[39m'\u001b[39m,\u001b[39m'\u001b[39m\u001b[39mLLC-store-misses\u001b[39m\u001b[39m'\u001b[39m]] \u001b[39m=\u001b[39m df[[\u001b[39m'\u001b[39;49m\u001b[39mLLC-load-misses\u001b[39;49m\u001b[39m'\u001b[39;49m,\u001b[39m'\u001b[39;49m\u001b[39mLLC-loads\u001b[39;49m\u001b[39m'\u001b[39;49m,\u001b[39m'\u001b[39;49m\u001b[39mLLC-store-misses\u001b[39;49m\u001b[39m'\u001b[39;49m]]\u001b[39m.\u001b[39mdiv(df[\u001b[39m'\u001b[39m\u001b[39minstructions4\u001b[39m\u001b[39m'\u001b[39m],axis\u001b[39m=\u001b[39m\u001b[39m0\u001b[39m)\n\u001b[1;32m     12\u001b[0m df[[\u001b[39m'\u001b[39m\u001b[39mbranch-load-misses\u001b[39m\u001b[39m'\u001b[39m,\u001b[39m'\u001b[39m\u001b[39mbranch-loads\u001b[39m\u001b[39m'\u001b[39m,\u001b[39m'\u001b[39m\u001b[39mdTLB-load-misses\u001b[39m\u001b[39m'\u001b[39m]] \u001b[39m=\u001b[39m df[[\u001b[39m'\u001b[39m\u001b[39mbranch-load-misses\u001b[39m\u001b[39m'\u001b[39m,\u001b[39m'\u001b[39m\u001b[39mbranch-loads\u001b[39m\u001b[39m'\u001b[39m,\u001b[39m'\u001b[39m\u001b[39mdTLB-load-misses\u001b[39m\u001b[39m'\u001b[39m]]\u001b[39m.\u001b[39mdiv(df[\u001b[39m'\u001b[39m\u001b[39minstructions5\u001b[39m\u001b[39m'\u001b[39m],axis\u001b[39m=\u001b[39m\u001b[39m0\u001b[39m)\n\u001b[1;32m     13\u001b[0m df[[\u001b[39m'\u001b[39m\u001b[39mdTLB-store-misses\u001b[39m\u001b[39m'\u001b[39m,\u001b[39m'\u001b[39m\u001b[39mdTLB-stores\u001b[39m\u001b[39m'\u001b[39m,\u001b[39m'\u001b[39m\u001b[39miTLB-load-misses\u001b[39m\u001b[39m'\u001b[39m]] \u001b[39m=\u001b[39m df[[\u001b[39m'\u001b[39m\u001b[39mdTLB-store-misses\u001b[39m\u001b[39m'\u001b[39m,\u001b[39m'\u001b[39m\u001b[39mdTLB-stores\u001b[39m\u001b[39m'\u001b[39m,\u001b[39m'\u001b[39m\u001b[39miTLB-load-misses\u001b[39m\u001b[39m'\u001b[39m]]\u001b[39m.\u001b[39mdiv(df[\u001b[39m'\u001b[39m\u001b[39minstructions6\u001b[39m\u001b[39m'\u001b[39m],axis\u001b[39m=\u001b[39m\u001b[39m0\u001b[39m)\n",
      "File \u001b[0;32m~/Music/venv/lib/python3.10/site-packages/pandas/core/frame.py:3813\u001b[0m, in \u001b[0;36mDataFrame.__getitem__\u001b[0;34m(self, key)\u001b[0m\n\u001b[1;32m   3811\u001b[0m     \u001b[39mif\u001b[39;00m is_iterator(key):\n\u001b[1;32m   3812\u001b[0m         key \u001b[39m=\u001b[39m \u001b[39mlist\u001b[39m(key)\n\u001b[0;32m-> 3813\u001b[0m     indexer \u001b[39m=\u001b[39m \u001b[39mself\u001b[39;49m\u001b[39m.\u001b[39;49mcolumns\u001b[39m.\u001b[39;49m_get_indexer_strict(key, \u001b[39m\"\u001b[39;49m\u001b[39mcolumns\u001b[39;49m\u001b[39m\"\u001b[39;49m)[\u001b[39m1\u001b[39m]\n\u001b[1;32m   3815\u001b[0m \u001b[39m# take() does not accept boolean indexers\u001b[39;00m\n\u001b[1;32m   3816\u001b[0m \u001b[39mif\u001b[39;00m \u001b[39mgetattr\u001b[39m(indexer, \u001b[39m\"\u001b[39m\u001b[39mdtype\u001b[39m\u001b[39m\"\u001b[39m, \u001b[39mNone\u001b[39;00m) \u001b[39m==\u001b[39m \u001b[39mbool\u001b[39m:\n",
      "File \u001b[0;32m~/Music/venv/lib/python3.10/site-packages/pandas/core/indexes/base.py:6070\u001b[0m, in \u001b[0;36mIndex._get_indexer_strict\u001b[0;34m(self, key, axis_name)\u001b[0m\n\u001b[1;32m   6067\u001b[0m \u001b[39melse\u001b[39;00m:\n\u001b[1;32m   6068\u001b[0m     keyarr, indexer, new_indexer \u001b[39m=\u001b[39m \u001b[39mself\u001b[39m\u001b[39m.\u001b[39m_reindex_non_unique(keyarr)\n\u001b[0;32m-> 6070\u001b[0m \u001b[39mself\u001b[39;49m\u001b[39m.\u001b[39;49m_raise_if_missing(keyarr, indexer, axis_name)\n\u001b[1;32m   6072\u001b[0m keyarr \u001b[39m=\u001b[39m \u001b[39mself\u001b[39m\u001b[39m.\u001b[39mtake(indexer)\n\u001b[1;32m   6073\u001b[0m \u001b[39mif\u001b[39;00m \u001b[39misinstance\u001b[39m(key, Index):\n\u001b[1;32m   6074\u001b[0m     \u001b[39m# GH 42790 - Preserve name from an Index\u001b[39;00m\n",
      "File \u001b[0;32m~/Music/venv/lib/python3.10/site-packages/pandas/core/indexes/base.py:6133\u001b[0m, in \u001b[0;36mIndex._raise_if_missing\u001b[0;34m(self, key, indexer, axis_name)\u001b[0m\n\u001b[1;32m   6130\u001b[0m     \u001b[39mraise\u001b[39;00m \u001b[39mKeyError\u001b[39;00m(\u001b[39mf\u001b[39m\u001b[39m\"\u001b[39m\u001b[39mNone of [\u001b[39m\u001b[39m{\u001b[39;00mkey\u001b[39m}\u001b[39;00m\u001b[39m] are in the [\u001b[39m\u001b[39m{\u001b[39;00maxis_name\u001b[39m}\u001b[39;00m\u001b[39m]\u001b[39m\u001b[39m\"\u001b[39m)\n\u001b[1;32m   6132\u001b[0m not_found \u001b[39m=\u001b[39m \u001b[39mlist\u001b[39m(ensure_index(key)[missing_mask\u001b[39m.\u001b[39mnonzero()[\u001b[39m0\u001b[39m]]\u001b[39m.\u001b[39munique())\n\u001b[0;32m-> 6133\u001b[0m \u001b[39mraise\u001b[39;00m \u001b[39mKeyError\u001b[39;00m(\u001b[39mf\u001b[39m\u001b[39m\"\u001b[39m\u001b[39m{\u001b[39;00mnot_found\u001b[39m}\u001b[39;00m\u001b[39m not in index\u001b[39m\u001b[39m\"\u001b[39m)\n",
      "\u001b[0;31mKeyError\u001b[0m: \"['LLC-store-misses'] not in index\""
     ]
    }
   ],
   "source": [
    "benign = \"merged_benign/\"\n",
    "for file in os.listdir(benign):\n",
    "    print(file)\n",
    "    df = pd.read_csv(benign+file)\n",
    "    df.drop('Unnamed: 0',axis=1,inplace=True)\n",
    "    df.fillna(0)\n",
    "    print(df.size)\n",
    "    df[['branch-instructions','branch-misses','bus-cycles']] = df[['branch-instructions','branch-misses','bus-cycles']].div(df['instructions1'],axis=0)\n",
    "    df[['cache-references','cpu-cycles','ref-cycles']] = df[['cache-references','cpu-cycles','ref-cycles']].div(df['instructions2'],axis=0)\n",
    "    df[['L1-dcache-load-misses','L1-dcache-loads','L1-dcache-stores']] = df[['L1-dcache-load-misses','L1-dcache-loads','L1-dcache-stores']].div(df['instructions3'],axis=0)\n",
    "    df[['LLC-load-misses','LLC-loads','LLC-store-misses']] = df[['LLC-load-misses','LLC-loads','LLC-store-misses']].div(df['instructions4'],axis=0)\n",
    "    df[['branch-load-misses','branch-loads','dTLB-load-misses']] = df[['branch-load-misses','branch-loads','dTLB-load-misses']].div(df['instructions5'],axis=0)\n",
    "    df[['dTLB-store-misses','dTLB-stores','iTLB-load-misses']] = df[['dTLB-store-misses','dTLB-stores','iTLB-load-misses']].div(df['instructions6'],axis=0)\n",
    "    df[['node-load-misses','node-loads','node-store-misses']] = df[['node-load-misses','node-loads','node-store-misses']].div(df['instructions7'],axis=0)\n",
    "    df[['mem-loads','mem-stores']] = df[['mem-loads','mem-stores']].div(df['instructions8'],axis=0)\n",
    "    df[['cache-misses','L1-icache-load-misses','LLC-stores']] = df[['cache-misses','L1-icache-load-misses','LLC-stores']].div(df['instructions9'],axis=0)\n",
    "    df[['dTLB-loads','iTLB-loads','node-stores']] = df[['dTLB-loads','iTLB-loads','node-stores']].div(df['instructions10'],axis=0)\n",
    "    df = df.drop(['instructions1','instructions2','instructions3','instructions4','instructions6','instructions7','instructions8','instructions9','instructions10'],axis=1)"
   ]
  },
  {
   "cell_type": "code",
   "execution_count": null,
   "metadata": {},
   "outputs": [],
   "source": []
  },
  {
   "cell_type": "code",
   "execution_count": null,
   "metadata": {},
   "outputs": [],
   "source": []
  },
  {
   "cell_type": "code",
   "execution_count": null,
   "metadata": {},
   "outputs": [],
   "source": []
  },
  {
   "cell_type": "code",
   "execution_count": 2,
   "metadata": {},
   "outputs": [],
   "source": [
    "family = [\"stak/\",\"tsunami/\",\"mirai2/\",\"drtycow/\",\"ezuriloader/\",\"flood/\",\"cephei/\"]\n",
    "malware = {}"
   ]
  },
  {
   "cell_type": "code",
   "execution_count": null,
   "metadata": {},
   "outputs": [],
   "source": []
  },
  {
   "cell_type": "code",
   "execution_count": null,
   "metadata": {},
   "outputs": [],
   "source": []
  },
  {
   "cell_type": "code",
   "execution_count": null,
   "metadata": {},
   "outputs": [],
   "source": []
  },
  {
   "cell_type": "code",
   "execution_count": null,
   "metadata": {},
   "outputs": [],
   "source": []
  },
  {
   "cell_type": "code",
   "execution_count": null,
   "metadata": {},
   "outputs": [],
   "source": []
  },
  {
   "cell_type": "code",
   "execution_count": null,
   "metadata": {},
   "outputs": [],
   "source": []
  },
  {
   "cell_type": "code",
   "execution_count": null,
   "metadata": {},
   "outputs": [],
   "source": []
  }
 ],
 "metadata": {
  "kernelspec": {
   "display_name": "venv",
   "language": "python",
   "name": "python3"
  },
  "language_info": {
   "codemirror_mode": {
    "name": "ipython",
    "version": 3
   },
   "file_extension": ".py",
   "mimetype": "text/x-python",
   "name": "python",
   "nbconvert_exporter": "python",
   "pygments_lexer": "ipython3",
   "version": "3.10.10"
  },
  "orig_nbformat": 4
 },
 "nbformat": 4,
 "nbformat_minor": 2
}
