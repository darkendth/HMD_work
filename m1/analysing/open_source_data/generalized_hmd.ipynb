{
 "cells": [
  {
   "cell_type": "code",
   "execution_count": 1,
   "metadata": {},
   "outputs": [],
   "source": [
    "import json\n",
    "import random\n",
    "import numpy as np\n",
    "import pandas as pd\n",
    "from sklearn.metrics import accuracy_score"
   ]
  },
  {
   "cell_type": "code",
   "execution_count": 2,
   "metadata": {},
   "outputs": [],
   "source": [
    "import sys, os, json, random, logging, time, socket\n",
    "import numpy as np\n",
    "from itertools import cycle\n",
    "from sklearn.model_selection import train_test_split\n",
    "from sklearn.metrics import classification_report\n",
    "from sklearn.metrics import precision_recall_fscore_support\n",
    "from matplotlib import gridspec\n",
    "from sklearn.svm import SVC\n",
    "from sklearn.neural_network import MLPClassifier\n",
    "from sklearn.neighbors import KNeighborsClassifier\n",
    "from sklearn.gaussian_process import GaussianProcessClassifier\n",
    "from sklearn.gaussian_process.kernels import RBF\n",
    "from sklearn.gaussian_process.kernels import RationalQuadratic\n",
    "from sklearn.gaussian_process.kernels import Matern\n",
    "from sklearn.gaussian_process.kernels import ExpSineSquared\n",
    "from sklearn.gaussian_process.kernels import DotProduct\n",
    "from sklearn.tree import DecisionTreeClassifier\n",
    "from sklearn import tree\n",
    "from sklearn.ensemble import RandomForestClassifier, AdaBoostClassifier\n",
    "from sklearn.naive_bayes import GaussianNB\n",
    "from sklearn.discriminant_analysis import QuadraticDiscriminantAnalysis\n",
    "from sklearn.linear_model import LogisticRegression\n",
    "import matplotlib.pyplot as plt\n",
    "from sklearn.metrics import roc_curve, auc\n",
    "from matplotlib.backends.backend_pdf import PdfPages\n",
    "from scipy import interp\n",
    "from sklearn.preprocessing import MinMaxScaler\n",
    "from sklearn import manifold\n",
    "import matplotlib.pylab as pylab\n",
    "from sklearn.model_selection import cross_val_score\n",
    "from sklearn.model_selection import cross_val_predict"
   ]
  },
  {
   "cell_type": "code",
   "execution_count": 3,
   "metadata": {},
   "outputs": [],
   "source": [
    "malware_file = 'amd_malware_metadata/malware_post_pca_data.txt'\n",
    "\n",
    "with open(malware_file, 'r') as data_file:\n",
    "    mlw_data = json.load(data_file)"
   ]
  },
  {
   "cell_type": "code",
   "execution_count": 5,
   "metadata": {},
   "outputs": [],
   "source": [
    "malware = []\n",
    "for m in mlw_data.keys():\n",
    "    for each_sample in mlw_data[m]:\n",
    "        if len(malware) == 0:\n",
    "            malware = np.array(each_sample)\n",
    "        else:\n",
    "            malware = np.vstack((malware, each_sample))\n"
   ]
  },
  {
   "cell_type": "code",
   "execution_count": 6,
   "metadata": {},
   "outputs": [
    {
     "data": {
      "text/plain": [
       "(31871, 12)"
      ]
     },
     "execution_count": 6,
     "metadata": {},
     "output_type": "execute_result"
    }
   ],
   "source": [
    "malware.shape"
   ]
  },
  {
   "attachments": {},
   "cell_type": "markdown",
   "metadata": {},
   "source": [
    "benign"
   ]
  },
  {
   "cell_type": "code",
   "execution_count": 7,
   "metadata": {},
   "outputs": [
    {
     "name": "stderr",
     "output_type": "stream",
     "text": [
      "/tmp/ipykernel_102933/2151485239.py:14: DeprecationWarning: elementwise comparison failed; this will raise an error in the future.\n",
      "  if benign_data == []:\n"
     ]
    }
   ],
   "source": [
    "benign_files = [\\\n",
    "        'amd_desktop_metadata/benign_post_pca_data.txt',\\\n",
    "        'amd_python_benign_metadata/python_benign_post_pca_data.txt'\n",
    "        ]\n",
    "malware_files = ['amd_malware_metadata/malware_post_pca_data.txt']\n",
    "\n",
    "benign_data = []\n",
    "for files in benign_files:\n",
    "    with open(files, 'r') as data_file:\n",
    "        json_data = json.load(data_file)\n",
    "\n",
    "    for bm in json_data.keys():\n",
    "        for each_sample in json_data[bm]:\n",
    "            if benign_data == []:\n",
    "                benign_data = np.array(each_sample) \n",
    "            else:\n",
    "                benign_data = np.vstack((benign_data, each_sample))\n",
    "\n",
    "    data_file.close()"
   ]
  },
  {
   "cell_type": "code",
   "execution_count": 8,
   "metadata": {},
   "outputs": [
    {
     "data": {
      "text/plain": [
       "(45648, 12)"
      ]
     },
     "execution_count": 8,
     "metadata": {},
     "output_type": "execute_result"
    }
   ],
   "source": [
    "benign_data.shape"
   ]
  },
  {
   "cell_type": "code",
   "execution_count": 13,
   "metadata": {},
   "outputs": [],
   "source": [
    "class learnAll:\n",
    "    def __init__(self, malware, benign):\n",
    "        self.malware_data = malware\n",
    "        self.benign_data = benign\n",
    "\n",
    "        malware_label = np.ones(len(malware))\n",
    "        benign_label = np.zeros(len(benign_data))\n",
    "        sample_size = min(len(benign_label), len(malware_label))\n",
    "        self.data = np.vstack((\n",
    "            random.sample(list(benign_data), sample_size),\n",
    "            random.sample(list(malware), sample_size)\n",
    "        ))\n",
    "        self.label = np.concatenate((\n",
    "            random.sample(list(benign_label), sample_size),\n",
    "            random.sample(list(malware_label), sample_size)\n",
    "        ))\n",
    "\n",
    "    def setup_train_test_split(self):\n",
    "        \"\"\"\n",
    "        Setup_train_test_split uses default split (scikit-learn split) to separate the \n",
    "        training and testing dataset.\n",
    "        \"\"\"\n",
    "        self.X_train, self.X_test, self.y_train, self.y_test = train_test_split(\n",
    "            self.data, self.label, test_size=0.1,\n",
    "            random_state=random.randint(0, 2**32 - 1))\n",
    "\n",
    "    def setup_classifiers(self):\n",
    "        \"\"\"\n",
    "        setup_classifiers only generate the classifier class objects. nothing more.\n",
    "        \"\"\"\n",
    "        self.names = [\n",
    "            \"Nearest Neighbors\", \"Decision Tree\",\n",
    "            \"Random Forest\",\n",
    "            \"AdaBoost\", \"Naive Bayes\",\n",
    "            \"Neural Net\" \\\n",
    "            # \"Logistic Regression\",\\\n",
    "            # \"Linear SVM\", \"Rbf SVM\", \"Poly SVM\", \"Sigmoid SVM\"\\\n",
    "            # , \"Gaussian Process\"\n",
    "        ]\n",
    "        max_iterations = 1000\n",
    "        self.classifiers = [\n",
    "            KNeighborsClassifier(\n",
    "                n_neighbors=4, weights='uniform', algorithm='auto', n_jobs=-1),\n",
    "            DecisionTreeClassifier(\n",
    "                max_depth=80, min_samples_split=12, min_samples_leaf=12,\n",
    "                max_features=None,\n",
    "                random_state=int(round(time.time()))),\n",
    "            RandomForestClassifier(max_depth=80, min_samples_split=12,\n",
    "                                   min_samples_leaf=12,\n",
    "                                   n_estimators=80, max_features=None,\n",
    "                                   random_state=int(round(time.time()))),\n",
    "            AdaBoostClassifier(algorithm='SAMME.R', n_estimators=100,\n",
    "                               random_state=int(round(time.time()))),\n",
    "            GaussianNB(priors=[0.5, 0.5]),\n",
    "            MLPClassifier(hidden_layer_sizes=(100, 100, 100, 100),\n",
    "                          alpha=100, solver='lbfgs',\n",
    "                          max_iter=max_iterations,\n",
    "                          activation='tanh', tol=1e-5,\n",
    "                          warm_start=True) \\\n",
    "            # LogisticRegression(penalty='l2', tol=1e-4, C=1e2,\\\n",
    "            # fit_intercept=True, solver='lbfgs', \\\n",
    "            # class_weight='balanced', max_iter=max_iterations), \\\n",
    "            # SVC(kernel=\"linear\", C=1e2, tol=1e-4, max_iter=max_iterations,\\\n",
    "            # probability= True),\\\n",
    "            # SVC(kernel=\"rbf\", C=1e2, tol=1e-4, max_iter=max_iterations,\\\n",
    "            # probability=True, shrinking=True),\n",
    "            # SVC(kernel=\"poly\", C=1e2, degree=4, tol=1e-4,\\\n",
    "            # max_iter=max_iterations, probability=True),\\\n",
    "            # SVC(kernel=\"sigmoid\", C=1e2, gamma=1e-1, tol=1e-3, \\\n",
    "            # max_iter=max_iterations, probability=True, \\\n",
    "            # shrinking=True)#,\\\n",
    "            # GaussianProcessClassifier(1.0 * RBF(1.0), n_jobs=-1, \\\n",
    "            # copy_X_train=False, \\\n",
    "            # max_iter_predict=100, warm_start=False )\\\n",
    "        ]\n",
    "        # self.classifiers = [ \\\n",
    "        #                 LogisticRegression(penalty='l2', tol=1e-9, C=1,\\\n",
    "        #                   fit_intercept=True, solver='lbfgs', \\\n",
    "        #                   class_weight='balanced', max_iter=max_iterations*100, n_jobs=-1) \\\n",
    "        #                 ]\n",
    "\n",
    "    def text_class_report(self, names,fam):\n",
    "        \"\"\"\n",
    "        Text_class_report for experiment log files. text report updates the self.report \n",
    "        to log the results in the terminal. The results include precision, recall, f1_score\n",
    "        and support. The results are dumped into classification report. The labels are 0 and 1.\n",
    "        \"\"\"\n",
    "        # results\n",
    "        precision, recall, f1_score, support = \\\n",
    "            precision_recall_fscore_support(self.y_test, self.prediction,\n",
    "                                            beta=1.0, average='binary', labels=[0, 1], pos_label=0)\n",
    "        self.report[names] = {}\n",
    "        self.report[names]['Accuracy'] = accuracy_score(self.y_test, self.prediction)\n",
    "        self.report[names]['precision'] = precision\n",
    "        self.report[names]['recall'] = recall\n",
    "        self.report[names]['f1_score'] = f1_score\n",
    "        self.report[names]['support'] = support\n",
    "        self.report[names]['param'] = \\\n",
    "            self.classifiers[self.names.index(names)].get_params()\n",
    "\n",
    "        with open(fam+'_classification_report2.txt', 'w') as outfile:\n",
    "            json.dump(self.report, outfile, indent=4)\n",
    "        outfile.close()\n",
    "        # print(self.report)\n",
    "\n",
    "    def roc_curve_report(self, name):\n",
    "        \"\"\"\n",
    "        Use fpr and tpr information to record the roc information.\n",
    "        \"\"\"\n",
    "        fpr, tpr, _ = roc_curve(\n",
    "            self.y_test, self.predict_proba[:, 0], pos_label=0)\n",
    "        roc_auc = auc(fpr, tpr)\n",
    "        self.report[name]['fpr'] = list(fpr)\n",
    "        self.report[name]['tpr'] = list(tpr)\n",
    "        self.report[name]['roc_auc'] = roc_auc\n",
    "\n",
    "        with open('classification_report.txt', 'w') as outfile:\n",
    "            json.dump(self.report, outfile, indent=2)\n",
    "        outfile.close()\n",
    "\n",
    "    def run(self,fam):\n",
    "        \"\"\"\n",
    "        run function has the minimum experimental setup. It uses the basic training and \n",
    "        testing split.\n",
    "        \"\"\"\n",
    "\n",
    "        self.setup_train_test_split()\n",
    "        self.setup_classifiers()\n",
    "        self.report = {}\n",
    "        for names, clf in zip(self.names, self.classifiers):\n",
    "            print(names + \" in process ....\")\n",
    "            # train\n",
    "            clf.fit(self.X_train, self.y_train)\n",
    "            # if names == 'Decision Tree':\n",
    "            #     tree.export_graphviz(clf, out_file=self.result_path + 'tree.dot')\n",
    "            # test\n",
    "\n",
    "            self.prediction = clf.predict(self.X_test)\n",
    "            self.text_class_report(names,fam)\n",
    "\n",
    "            self.predict_proba = clf.predict_proba(self.X_test)\n",
    "            self.roc_curve_report(names)\n",
    "\n",
    "            print(names + \" testing completed!\")\n",
    "\n",
    "    def cv_text_class_report(self, names):\n",
    "        \"\"\"\n",
    "        cv_text_class_report generates logs for cross validation results.\n",
    "        \"\"\"\n",
    "        chunk_length = len(self.label) / 10\n",
    "        self.report[names] = {}\n",
    "        for idx in range(10):\n",
    "            precision, recall, f1_score, support = \\\n",
    "                precision_recall_fscore_support(\n",
    "                    self.label[idx * chunk_length: (idx + 1) * chunk_length],\n",
    "                    self.prediction[idx *\n",
    "                                    chunk_length: (idx + 1) * chunk_length],\n",
    "                    beta=1.0, average='binary', labels=[0, 1], pos_label=0)\n",
    "            self.report[names][idx] = {}\n",
    "            self.report[names][idx]['precision'] = precision\n",
    "            self.report[names][idx]['recall'] = recall\n",
    "            self.report[names][idx]['f1_score'] = f1_score\n",
    "            self.report[names][idx]['support'] = support\n",
    "\n",
    "        # with open(self.result_path + 'cv_classification_report.txt', 'w') as outfile:\n",
    "        #     json.dump(self.report, outfile, indent=2)\n",
    "        # outfile.close()\n",
    "        print(self.report)\n",
    "\n",
    "    def classic_cross_validation(self):\n",
    "        \"\"\"\n",
    "        classic_cross_validation runs cross validation with ALL the data in the feature\n",
    "        vectors. It does NOT separate feature vectors between training and testing dataset.\n",
    "        \"\"\"\n",
    "        print('Start to cross validate ...')\n",
    "        self.setup_classifiers()\n",
    "        self.report = {}\n",
    "        for names, clf in zip(self.names, self.classifiers):\n",
    "            self.logger.info(names + \" in process ....\")\n",
    "            # test\n",
    "            zipped_list = zip(self.data, self.label)\n",
    "            random.shuffle(zipped_list)\n",
    "            self.data, self.label = zip(*zipped_list)\n",
    "            self.data = list(self.data)\n",
    "            self.label = list(self.label)\n",
    "            self.prediction = cross_val_predict(\n",
    "                clf, self.data, self.label, cv=10)\n",
    "            self.cv_text_class_report(names)\n",
    "\n",
    "            print(names + \" testing completed!\")\n"
   ]
  },
  {
   "cell_type": "code",
   "execution_count": 14,
   "metadata": {},
   "outputs": [],
   "source": [
    "learn = learnAll(malware, benign_data)"
   ]
  },
  {
   "cell_type": "code",
   "execution_count": 15,
   "metadata": {},
   "outputs": [
    {
     "name": "stdout",
     "output_type": "stream",
     "text": [
      "Nearest Neighbors in process ....\n",
      "Nearest Neighbors testing completed!\n",
      "Decision Tree in process ....\n",
      "Decision Tree testing completed!\n",
      "Random Forest in process ....\n"
     ]
    }
   ],
   "source": [
    "learn.run(\"generalize\")"
   ]
  },
  {
   "cell_type": "code",
   "execution_count": null,
   "metadata": {},
   "outputs": [],
   "source": []
  },
  {
   "cell_type": "code",
   "execution_count": null,
   "metadata": {},
   "outputs": [],
   "source": []
  },
  {
   "cell_type": "code",
   "execution_count": null,
   "metadata": {},
   "outputs": [],
   "source": []
  },
  {
   "cell_type": "code",
   "execution_count": 2,
   "metadata": {},
   "outputs": [],
   "source": [
    "malware_file = 'amd_malware_metadata/pca_data_dict.txt'\n",
    "\n",
    "with open(malware_file, 'r') as data_file:\n",
    "    mlw_data = json.load(data_file)"
   ]
  },
  {
   "cell_type": "code",
   "execution_count": 3,
   "metadata": {},
   "outputs": [],
   "source": [
    "# remove those malware whose features set is different.\n",
    "features = ['0x04000', '0x02700', '0x02902', '0x02B00', '0x02904', '0x03000']\n",
    "rm = []\n",
    "for m in mlw_data:\n",
    "    for sample in mlw_data[m]:\n",
    "        if set(features)!=set(mlw_data[m][sample]):\n",
    "                rm.append(m)\n",
    "        else:\n",
    "            mlw_data[m][sample] = np.array(list(mlw_data[m][sample].values()))\n",
    "\n",
    "for m in rm:\n",
    "    if m in mlw_data:\n",
    "        del mlw_data[m]"
   ]
  },
  {
   "cell_type": "code",
   "execution_count": 4,
   "metadata": {},
   "outputs": [],
   "source": [
    "malware = {}\n",
    "for m in mlw_data.keys():\n",
    "    for each_sample in mlw_data[m]:\n",
    "        if m not in malware:\n",
    "            malware[m] = np.reshape(mlw_data[m][each_sample],(1,6,32))\n",
    "        else:\n",
    "            mlw = np.reshape(mlw_data[m][each_sample],(1,6,32))\n",
    "            malware[m] = np.vstack((malware[m],mlw))"
   ]
  },
  {
   "cell_type": "code",
   "execution_count": 5,
   "metadata": {},
   "outputs": [],
   "source": [
    "malware_data = None\n",
    "for m in malware:\n",
    "    if malware_data is None:\n",
    "        malware_data = np.array(malware[m])\n",
    "    else:\n",
    "        malware_data = np.vstack((malware_data,malware[m]))"
   ]
  },
  {
   "cell_type": "code",
   "execution_count": 6,
   "metadata": {},
   "outputs": [
    {
     "data": {
      "text/plain": [
       "(31312, 6, 32)"
      ]
     },
     "execution_count": 6,
     "metadata": {},
     "output_type": "execute_result"
    }
   ],
   "source": [
    "malware_data.shape"
   ]
  },
  {
   "cell_type": "markdown",
   "metadata": {},
   "source": [
    "Load Benign Data."
   ]
  },
  {
   "cell_type": "code",
   "execution_count": 7,
   "metadata": {},
   "outputs": [],
   "source": [
    "benign_files = 'amd_desktop_metadata/pca_data_dict.txt'\n",
    "\n",
    "with open(benign_files, 'r') as data_file:\n",
    "    bgn_data = json.load(data_file)"
   ]
  },
  {
   "cell_type": "code",
   "execution_count": 8,
   "metadata": {},
   "outputs": [],
   "source": [
    "features = ['0x04000', '0x02700', '0x02902', '0x02B00', '0x02904', '0x03000']\n",
    "rm = []\n",
    "for b in bgn_data:\n",
    "    for sample in bgn_data[b]:\n",
    "        if set(features)!=set(bgn_data[b][sample]):\n",
    "                rm.append(b)\n",
    "        else:\n",
    "            bgn_data[b][sample] = np.array(list(bgn_data[b][sample].values()))\n",
    "\n",
    "for b in rm:\n",
    "    if b in bgn_data:\n",
    "        del bgn_data[b]\n",
    "        "
   ]
  },
  {
   "cell_type": "code",
   "execution_count": 9,
   "metadata": {},
   "outputs": [],
   "source": [
    "benign = {}\n",
    "for b in bgn_data.keys():\n",
    "    for each_sample in bgn_data[b]:\n",
    "        if b not in benign:\n",
    "            benign[b] = np.reshape(bgn_data[b][each_sample],(1,6,32))\n",
    "        else:\n",
    "            bn = np.reshape(bgn_data[b][each_sample],(1,6,32))\n",
    "            benign[b] = np.vstack((benign[b],bn))"
   ]
  },
  {
   "cell_type": "code",
   "execution_count": 10,
   "metadata": {},
   "outputs": [],
   "source": [
    "benign_data = None\n",
    "for b in benign:\n",
    "    if benign_data is None:\n",
    "        benign_data = np.array(benign[b])\n",
    "    else:\n",
    "        benign_data = np.vstack((benign_data,benign[b]))\n"
   ]
  },
  {
   "cell_type": "code",
   "execution_count": 11,
   "metadata": {},
   "outputs": [
    {
     "data": {
      "text/plain": [
       "(43658, 6, 32)"
      ]
     },
     "execution_count": 11,
     "metadata": {},
     "output_type": "execute_result"
    }
   ],
   "source": [
    "benign_data.shape"
   ]
  },
  {
   "cell_type": "code",
   "execution_count": 20,
   "metadata": {},
   "outputs": [
    {
     "data": {
      "text/plain": [
       "(32,)"
      ]
     },
     "execution_count": 20,
     "metadata": {},
     "output_type": "execute_result"
    }
   ],
   "source": [
    "malware_data[1][0].shape"
   ]
  },
  {
   "cell_type": "code",
   "execution_count": null,
   "metadata": {},
   "outputs": [],
   "source": []
  },
  {
   "cell_type": "code",
   "execution_count": null,
   "metadata": {},
   "outputs": [],
   "source": []
  },
  {
   "cell_type": "code",
   "execution_count": null,
   "metadata": {},
   "outputs": [],
   "source": []
  },
  {
   "cell_type": "code",
   "execution_count": 12,
   "metadata": {},
   "outputs": [
    {
     "name": "stderr",
     "output_type": "stream",
     "text": [
      "2023-04-27 15:27:34.055948: I tensorflow/tsl/cuda/cudart_stub.cc:28] Could not find cuda drivers on your machine, GPU will not be used.\n",
      "2023-04-27 15:27:34.365185: I tensorflow/tsl/cuda/cudart_stub.cc:28] Could not find cuda drivers on your machine, GPU will not be used.\n",
      "2023-04-27 15:27:34.366540: I tensorflow/core/platform/cpu_feature_guard.cc:182] This TensorFlow binary is optimized to use available CPU instructions in performance-critical operations.\n",
      "To enable the following instructions: AVX2 FMA, in other operations, rebuild TensorFlow with the appropriate compiler flags.\n",
      "2023-04-27 15:27:36.431610: W tensorflow/compiler/tf2tensorrt/utils/py_utils.cc:38] TF-TRT Warning: Could not find TensorRT\n"
     ]
    }
   ],
   "source": [
    "from sklearn.model_selection import train_test_split\n",
    "from sklearn.tree import DecisionTreeClassifier\n",
    "from sklearn.ensemble import RandomForestClassifier, AdaBoostClassifier\n",
    "from sklearn.neighbors import KNeighborsClassifier\n",
    "from sklearn.naive_bayes import GaussianNB\n",
    "from sklearn.neural_network import MLPClassifier\n",
    "from sklearn.metrics import classification_report\n",
    "from sklearn.metrics import precision_recall_fscore_support\n",
    "from sklearn.metrics import roc_curve, auc\n",
    "from sklearn.model_selection import cross_val_score\n",
    "from sklearn.model_selection import cross_val_predict\n",
    "from tensorflow import keras\n",
    "import numpy as np\n",
    "import matplotlib.pyplot as plt\n",
    "from sklearn.preprocessing import StandardScaler\n",
    "import tensorflow as tf\n",
    "import time"
   ]
  },
  {
   "cell_type": "code",
   "execution_count": null,
   "metadata": {},
   "outputs": [],
   "source": []
  },
  {
   "cell_type": "code",
   "execution_count": 13,
   "metadata": {},
   "outputs": [],
   "source": [
    "class GeneralizedDetector:\n",
    "    def __init__(self,malware,benign):\n",
    "        self.malware_data = malware\n",
    "        self.benign_data = benign\n",
    "\n",
    "        malware_label = np.ones(len(malware))\n",
    "        benign_label = np.zeros(len(benign))\n",
    "        sample_size = min(len(benign_label), len(malware_label))\n",
    "        self.data = np.vstack((\\\n",
    "                    random.sample(list(self.benign_data), sample_size),\\\n",
    "                    random.sample(list(self.malware_data), sample_size)\\\n",
    "                ))\n",
    "        self.label = np.concatenate((\\\n",
    "                    random.sample(list(benign_label), sample_size),\\\n",
    "                    random.sample(list(malware_label), sample_size)\\\n",
    "                ))\n",
    "    \n",
    "    def setup_train_test_split(self):\n",
    "        \"\"\"\n",
    "        Setup_train_test_split uses default split (scikit-learn split) to separate the \n",
    "        training and testing dataset.\n",
    "        \"\"\"\n",
    "        self.X_train, self.X_test, self.y_train, self.y_test = train_test_split(\\\n",
    "                            self.data, self.label, test_size = 0.1, \\\n",
    "                            random_state = random.randint(0, 2**32 -1 ))\n",
    "        scaler = StandardScaler()\n",
    "        self.X_train = scaler.fit_transform(self.X_train.reshape(-1, self.X_train.shape[-1])).reshape(self.X_train.shape)\n",
    "        self.X_test = scaler.transform(self.X_test.reshape(-1, self.X_test.shape[-1])).reshape(self.X_test.shape)\n",
    "    \n",
    "    def make_model(self,input_shape):\n",
    "        input_layer = keras.layers.Input(input_shape)\n",
    "\n",
    "        conv1 = keras.layers.Conv1D(filters=64, kernel_size=3, padding=\"same\")(input_layer)\n",
    "        conv1 = keras.layers.BatchNormalization()(conv1)\n",
    "        conv1 = keras.layers.ReLU()(conv1)\n",
    "\n",
    "        conv2 = keras.layers.Conv1D(filters=64, kernel_size=3, padding=\"same\")(conv1)\n",
    "        conv2 = keras.layers.BatchNormalization()(conv2)\n",
    "        conv2 = keras.layers.ReLU()(conv2)\n",
    "\n",
    "        conv3 = keras.layers.Conv1D(filters=64, kernel_size=3, padding=\"same\")(conv2)\n",
    "        conv3 = keras.layers.BatchNormalization()(conv3)\n",
    "        conv3 = keras.layers.ReLU()(conv3)\n",
    "\n",
    "        gap = keras.layers.GlobalAveragePooling1D()(conv3)\n",
    "\n",
    "        output_layer = keras.layers.Dense(2, activation=\"softmax\")(gap)\n",
    "\n",
    "        return keras.models.Model(inputs=input_layer, outputs=output_layer)\n",
    "    \n",
    "    def run(self):\n",
    "        model = self.make_model(input_shape=self.X_train.shape[1:])\n",
    "        epochs = 50\n",
    "        batch_size = 64\n",
    "        opt = tf.keras.optimizers.RMSprop(learning_rate=0.001)\n",
    "        callbacks = [\n",
    "            keras.callbacks.ModelCheckpoint(\n",
    "                \"best_model.h5\", save_best_only=True, monitor=\"val_loss\"\n",
    "            ),\n",
    "            keras.callbacks.ReduceLROnPlateau(\n",
    "                monitor=\"val_loss\", factor=0.5, patience=20, min_lr=0.0001\n",
    "            ),\n",
    "            keras.callbacks.EarlyStopping(monitor=\"val_loss\", patience=50, verbose=1),\n",
    "        ]\n",
    "        model.compile(\n",
    "            optimizer=opt,\n",
    "            loss=\"sparse_categorical_crossentropy\",\n",
    "            metrics=[\"sparse_categorical_accuracy\"],\n",
    "        )\n",
    "        self.history = model.fit(\n",
    "            self.X_train,\n",
    "            self.y_train,\n",
    "            batch_size=batch_size,\n",
    "            epochs=epochs,\n",
    "            # callbacks=callbacks,\n",
    "            validation_split=0.2,\n",
    "            verbose=1,\n",
    "        )\n",
    "    \n",
    "    def test(self):\n",
    "        model = keras.models.load_model(\"best_model.h5\")\n",
    "\n",
    "        test_loss, test_acc = model.evaluate(self.X_test, self.y_test)\n",
    "\n",
    "        print(\"Test accuracy\", test_acc)\n",
    "        print(\"Test lossUnable to select source and Destination from dropdown list.\", test_loss)\n",
    "    \n",
    "    def plot(self):\n",
    "        metric = \"sparse_categorical_accuracy\"\n",
    "        plt.figure()\n",
    "        plt.plot(self.history.history[metric])\n",
    "        plt.plot(self.history.history[\"val_\" + metric    ])\n",
    "        plt.title(\"model \" + metric)\n",
    "        plt.ylabel(metric, fontsize=\"large\")\n",
    "        plt.xlabel(\"epoch\", fontsize=\"large\")\n",
    "        plt.legend([\"train\", \"val\"], loc=\"best\")\n",
    "        plt.show()\n",
    "        plt.close()"
   ]
  },
  {
   "cell_type": "code",
   "execution_count": 14,
   "metadata": {},
   "outputs": [
    {
     "name": "stdout",
     "output_type": "stream",
     "text": [
      "Epoch 1/50\n"
     ]
    },
    {
     "name": "stderr",
     "output_type": "stream",
     "text": [
      "2023-04-27 15:27:42.972005: W tensorflow/tsl/framework/cpu_allocator_impl.cc:83] Allocation of 34627584 exceeds 10% of free system memory.\n"
     ]
    },
    {
     "name": "stdout",
     "output_type": "stream",
     "text": [
      "705/705 [==============================] - 9s 8ms/step - loss: 0.3813 - sparse_categorical_accuracy: 0.8029 - val_loss: 0.4296 - val_sparse_categorical_accuracy: 0.7686\n",
      "Epoch 2/50\n",
      "705/705 [==============================] - 5s 8ms/step - loss: 0.3257 - sparse_categorical_accuracy: 0.8428 - val_loss: 0.3893 - val_sparse_categorical_accuracy: 0.7986\n",
      "Epoch 3/50\n",
      "705/705 [==============================] - 6s 8ms/step - loss: 0.3068 - sparse_categorical_accuracy: 0.8568 - val_loss: 0.6284 - val_sparse_categorical_accuracy: 0.7417\n",
      "Epoch 4/50\n",
      "705/705 [==============================] - 6s 8ms/step - loss: 0.2953 - sparse_categorical_accuracy: 0.8631 - val_loss: 0.3731 - val_sparse_categorical_accuracy: 0.8133\n",
      "Epoch 5/50\n",
      "705/705 [==============================] - 5s 7ms/step - loss: 0.2860 - sparse_categorical_accuracy: 0.8712 - val_loss: 0.5635 - val_sparse_categorical_accuracy: 0.7749\n",
      "Epoch 6/50\n",
      "705/705 [==============================] - 5s 8ms/step - loss: 0.2748 - sparse_categorical_accuracy: 0.8785 - val_loss: 0.4894 - val_sparse_categorical_accuracy: 0.7916\n",
      "Epoch 7/50\n",
      "705/705 [==============================] - 5s 8ms/step - loss: 0.2696 - sparse_categorical_accuracy: 0.8802 - val_loss: 0.9619 - val_sparse_categorical_accuracy: 0.7302\n",
      "Epoch 8/50\n",
      "705/705 [==============================] - 5s 8ms/step - loss: 0.2663 - sparse_categorical_accuracy: 0.8827 - val_loss: 0.9318 - val_sparse_categorical_accuracy: 0.7456\n",
      "Epoch 9/50\n",
      "705/705 [==============================] - 5s 7ms/step - loss: 0.2599 - sparse_categorical_accuracy: 0.8858 - val_loss: 0.6961 - val_sparse_categorical_accuracy: 0.7546\n",
      "Epoch 10/50\n",
      "705/705 [==============================] - 5s 8ms/step - loss: 0.2583 - sparse_categorical_accuracy: 0.8860 - val_loss: 0.8408 - val_sparse_categorical_accuracy: 0.7534\n",
      "Epoch 11/50\n",
      "705/705 [==============================] - 5s 7ms/step - loss: 0.2527 - sparse_categorical_accuracy: 0.8905 - val_loss: 0.9871 - val_sparse_categorical_accuracy: 0.7505\n",
      "Epoch 12/50\n",
      "705/705 [==============================] - 5s 7ms/step - loss: 0.2464 - sparse_categorical_accuracy: 0.8932 - val_loss: 0.9538 - val_sparse_categorical_accuracy: 0.7417\n",
      "Epoch 13/50\n",
      "705/705 [==============================] - 5s 7ms/step - loss: 0.2479 - sparse_categorical_accuracy: 0.8919 - val_loss: 0.4716 - val_sparse_categorical_accuracy: 0.7856\n",
      "Epoch 14/50\n",
      "705/705 [==============================] - 5s 8ms/step - loss: 0.2442 - sparse_categorical_accuracy: 0.8968 - val_loss: 0.6259 - val_sparse_categorical_accuracy: 0.7619\n",
      "Epoch 15/50\n",
      "705/705 [==============================] - 6s 8ms/step - loss: 0.2396 - sparse_categorical_accuracy: 0.8966 - val_loss: 0.7088 - val_sparse_categorical_accuracy: 0.7576\n",
      "Epoch 16/50\n",
      "705/705 [==============================] - 6s 8ms/step - loss: 0.2400 - sparse_categorical_accuracy: 0.8980 - val_loss: 0.4194 - val_sparse_categorical_accuracy: 0.7642\n",
      "Epoch 17/50\n",
      "705/705 [==============================] - 5s 7ms/step - loss: 0.2353 - sparse_categorical_accuracy: 0.8996 - val_loss: 0.7372 - val_sparse_categorical_accuracy: 0.7349\n",
      "Epoch 18/50\n",
      "705/705 [==============================] - 5s 7ms/step - loss: 0.2353 - sparse_categorical_accuracy: 0.9005 - val_loss: 1.0914 - val_sparse_categorical_accuracy: 0.7408\n",
      "Epoch 19/50\n",
      "705/705 [==============================] - 6s 8ms/step - loss: 0.2304 - sparse_categorical_accuracy: 0.9036 - val_loss: 0.9223 - val_sparse_categorical_accuracy: 0.7467\n",
      "Epoch 20/50\n",
      "705/705 [==============================] - 5s 7ms/step - loss: 0.2278 - sparse_categorical_accuracy: 0.9055 - val_loss: 0.8605 - val_sparse_categorical_accuracy: 0.7528\n",
      "Epoch 21/50\n",
      "705/705 [==============================] - 5s 7ms/step - loss: 0.2252 - sparse_categorical_accuracy: 0.9060 - val_loss: 0.6764 - val_sparse_categorical_accuracy: 0.7552\n",
      "Epoch 22/50\n",
      "705/705 [==============================] - 5s 7ms/step - loss: 0.2263 - sparse_categorical_accuracy: 0.9044 - val_loss: 1.2249 - val_sparse_categorical_accuracy: 0.7405\n",
      "Epoch 23/50\n",
      "705/705 [==============================] - 6s 8ms/step - loss: 0.2255 - sparse_categorical_accuracy: 0.9048 - val_loss: 1.1290 - val_sparse_categorical_accuracy: 0.7443\n",
      "Epoch 24/50\n",
      "705/705 [==============================] - 5s 7ms/step - loss: 0.2219 - sparse_categorical_accuracy: 0.9063 - val_loss: 0.9266 - val_sparse_categorical_accuracy: 0.7470\n",
      "Epoch 25/50\n",
      "705/705 [==============================] - 5s 8ms/step - loss: 0.2189 - sparse_categorical_accuracy: 0.9075 - val_loss: 1.1191 - val_sparse_categorical_accuracy: 0.7399\n",
      "Epoch 26/50\n",
      "705/705 [==============================] - 5s 7ms/step - loss: 0.2193 - sparse_categorical_accuracy: 0.9063 - val_loss: 0.8176 - val_sparse_categorical_accuracy: 0.7648\n",
      "Epoch 27/50\n",
      "705/705 [==============================] - 5s 7ms/step - loss: 0.2159 - sparse_categorical_accuracy: 0.9108 - val_loss: 0.5409 - val_sparse_categorical_accuracy: 0.7616\n",
      "Epoch 28/50\n",
      "705/705 [==============================] - 5s 7ms/step - loss: 0.2166 - sparse_categorical_accuracy: 0.9084 - val_loss: 0.7757 - val_sparse_categorical_accuracy: 0.7561\n",
      "Epoch 29/50\n",
      "705/705 [==============================] - 5s 7ms/step - loss: 0.2151 - sparse_categorical_accuracy: 0.9110 - val_loss: 1.0279 - val_sparse_categorical_accuracy: 0.7502\n",
      "Epoch 30/50\n",
      "705/705 [==============================] - 5s 7ms/step - loss: 0.2158 - sparse_categorical_accuracy: 0.9084 - val_loss: 1.0523 - val_sparse_categorical_accuracy: 0.7393\n",
      "Epoch 31/50\n",
      "705/705 [==============================] - 5s 7ms/step - loss: 0.2136 - sparse_categorical_accuracy: 0.9105 - val_loss: 1.1511 - val_sparse_categorical_accuracy: 0.7562\n",
      "Epoch 32/50\n",
      "705/705 [==============================] - 5s 7ms/step - loss: 0.2104 - sparse_categorical_accuracy: 0.9126 - val_loss: 1.3167 - val_sparse_categorical_accuracy: 0.7372\n",
      "Epoch 33/50\n",
      "705/705 [==============================] - 5s 7ms/step - loss: 0.2103 - sparse_categorical_accuracy: 0.9113 - val_loss: 1.2458 - val_sparse_categorical_accuracy: 0.7366\n",
      "Epoch 34/50\n",
      "705/705 [==============================] - 5s 7ms/step - loss: 0.2103 - sparse_categorical_accuracy: 0.9114 - val_loss: 1.4888 - val_sparse_categorical_accuracy: 0.7306\n",
      "Epoch 35/50\n",
      "705/705 [==============================] - 5s 7ms/step - loss: 0.2106 - sparse_categorical_accuracy: 0.9121 - val_loss: 0.6475 - val_sparse_categorical_accuracy: 0.7588\n",
      "Epoch 36/50\n",
      "705/705 [==============================] - 5s 7ms/step - loss: 0.2066 - sparse_categorical_accuracy: 0.9133 - val_loss: 1.2285 - val_sparse_categorical_accuracy: 0.7460\n",
      "Epoch 37/50\n",
      "705/705 [==============================] - 5s 7ms/step - loss: 0.2075 - sparse_categorical_accuracy: 0.9139 - val_loss: 1.1168 - val_sparse_categorical_accuracy: 0.7432\n",
      "Epoch 38/50\n",
      "705/705 [==============================] - 5s 7ms/step - loss: 0.2067 - sparse_categorical_accuracy: 0.9135 - val_loss: 1.2326 - val_sparse_categorical_accuracy: 0.7323\n",
      "Epoch 39/50\n",
      "705/705 [==============================] - 5s 7ms/step - loss: 0.2060 - sparse_categorical_accuracy: 0.9139 - val_loss: 1.3516 - val_sparse_categorical_accuracy: 0.7339\n",
      "Epoch 40/50\n",
      "705/705 [==============================] - 5s 7ms/step - loss: 0.2026 - sparse_categorical_accuracy: 0.9165 - val_loss: 1.3275 - val_sparse_categorical_accuracy: 0.7467\n",
      "Epoch 41/50\n",
      "705/705 [==============================] - 5s 7ms/step - loss: 0.2041 - sparse_categorical_accuracy: 0.9164 - val_loss: 0.6404 - val_sparse_categorical_accuracy: 0.7755\n",
      "Epoch 42/50\n",
      "705/705 [==============================] - 5s 7ms/step - loss: 0.2006 - sparse_categorical_accuracy: 0.9153 - val_loss: 0.9856 - val_sparse_categorical_accuracy: 0.7514\n",
      "Epoch 43/50\n",
      "705/705 [==============================] - 5s 7ms/step - loss: 0.1998 - sparse_categorical_accuracy: 0.9165 - val_loss: 1.2745 - val_sparse_categorical_accuracy: 0.7294\n",
      "Epoch 44/50\n",
      "705/705 [==============================] - 5s 7ms/step - loss: 0.1995 - sparse_categorical_accuracy: 0.9170 - val_loss: 1.2195 - val_sparse_categorical_accuracy: 0.7214\n",
      "Epoch 45/50\n",
      "705/705 [==============================] - 5s 7ms/step - loss: 0.2003 - sparse_categorical_accuracy: 0.9163 - val_loss: 0.7358 - val_sparse_categorical_accuracy: 0.7569\n",
      "Epoch 46/50\n",
      "705/705 [==============================] - 5s 7ms/step - loss: 0.1982 - sparse_categorical_accuracy: 0.9174 - val_loss: 1.1044 - val_sparse_categorical_accuracy: 0.7461\n",
      "Epoch 47/50\n",
      "705/705 [==============================] - 5s 7ms/step - loss: 0.1983 - sparse_categorical_accuracy: 0.9171 - val_loss: 1.5272 - val_sparse_categorical_accuracy: 0.7309\n",
      "Epoch 48/50\n",
      "705/705 [==============================] - 5s 7ms/step - loss: 0.1986 - sparse_categorical_accuracy: 0.9177 - val_loss: 0.7877 - val_sparse_categorical_accuracy: 0.7668\n",
      "Epoch 49/50\n",
      "705/705 [==============================] - 5s 7ms/step - loss: 0.1955 - sparse_categorical_accuracy: 0.9180 - val_loss: 1.6541 - val_sparse_categorical_accuracy: 0.7210\n",
      "Epoch 50/50\n",
      "705/705 [==============================] - 5s 7ms/step - loss: 0.1955 - sparse_categorical_accuracy: 0.9190 - val_loss: 1.0611 - val_sparse_categorical_accuracy: 0.7359\n"
     ]
    }
   ],
   "source": [
    "dtr = GeneralizedDetector(malware_data,benign_data)\n",
    "dtr.setup_train_test_split()\n",
    "dtr.run()\n"
   ]
  },
  {
   "cell_type": "code",
   "execution_count": 15,
   "metadata": {},
   "outputs": [
    {
     "name": "stdout",
     "output_type": "stream",
     "text": [
      "196/196 [==============================] - 1s 3ms/step - loss: 0.7237 - sparse_categorical_accuracy: 0.4940\n",
      "Test accuracy 0.4940124452114105\n",
      "Test loss 0.7236943244934082\n"
     ]
    }
   ],
   "source": [
    "dtr.test()"
   ]
  },
  {
   "cell_type": "code",
   "execution_count": null,
   "metadata": {},
   "outputs": [],
   "source": []
  },
  {
   "cell_type": "code",
   "execution_count": null,
   "metadata": {},
   "outputs": [],
   "source": []
  },
  {
   "cell_type": "code",
   "execution_count": null,
   "metadata": {},
   "outputs": [],
   "source": []
  },
  {
   "cell_type": "code",
   "execution_count": null,
   "metadata": {},
   "outputs": [],
   "source": []
  },
  {
   "cell_type": "code",
   "execution_count": 21,
   "metadata": {},
   "outputs": [
    {
     "data": {
      "image/png": "[encoded data removed]",
      "text/plain": [
       "<Figure size 640x480 with 1 Axes>"
      ]
     },
     "metadata": {},
     "output_type": "display_data"
    }
   ],
   "source": [
    "import matplotlib.pyplot as plt\n",
    "\n",
    "# Given points\n",
    "A = [1, 8]\n",
    "B = [6, 7]\n",
    "C = [8, 6]\n",
    "D = [9, 5]\n",
    "E = [10, 3]\n",
    "F = [11, -1]\n",
    "G = [-1, -1]\n",
    "default_point_1 = [2, 1]\n",
    "default_point_2 = [-2, -1]\n",
    "\n",
    "# Convex hull\n",
    "convex_hull = [A, B, C, D, E, F, G, A]\n",
    "x, y = zip(*convex_hull)\n",
    "\n",
    "# Plotting\n",
    "fig, ax = plt.subplots()\n",
    "ax.plot(x, y, 'b-', linewidth=2)\n",
    "ax.plot(default_point_1[0], default_point_1[1], 'ro')\n",
    "ax.plot(default_point_2[0], default_point_2[1], 'go')\n",
    "plt.show()"
   ]
  }
 ],
 "metadata": {
  "kernelspec": {
   "display_name": "venv",
   "language": "python",
   "name": "python3"
  },
  "language_info": {
   "codemirror_mode": {
    "name": "ipython",
    "version": 3
   },
   "file_extension": ".py",
   "mimetype": "text/x-python",
   "name": "python",
   "nbconvert_exporter": "python",
   "pygments_lexer": "ipython3",
   "version": "3.10.10"
  },
  "orig_nbformat": 4
 },
 "nbformat": 4,
 "nbformat_minor": 2
}
